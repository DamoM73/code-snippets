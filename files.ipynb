{
 "cells": [
  {
   "cell_type": "markdown",
   "metadata": {},
   "source": [
    "# Text Files\n",
    "\n",
    "Plain text files useful for saving and loading information.\n",
    "\n",
    "# Reading Text Files\n",
    "We will use the `with` keyword to open text files. Normally when you open a file in Python, you also need to close it. By using the `with` statement, the file will be closed asa soon as you exit the `with` block."
   ]
  }
 ],
 "metadata": {
  "language_info": {
   "name": "python"
  },
  "orig_nbformat": 4
 },
 "nbformat": 4,
 "nbformat_minor": 2
}
